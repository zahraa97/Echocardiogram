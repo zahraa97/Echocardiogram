{
 "cells": [
  {
   "cell_type": "markdown",
   "metadata": {},
   "source": [
    "# Echocardiogram "
   ]
  },
  {
   "cell_type": "markdown",
   "metadata": {},
   "source": [
    "# Content\n",
    "This data was used to predict if patients would survive atleast one year after having a heart attack. All patients suffered from a heart attack at some point. \n",
    "\n",
    "An echocardiogram shows the size, structure, and movement of various parts of your heart. It uses high frequency sound waves (ultrasound) to make pictures of your heart. This test was used to measure the size of the heart, display fluid around the heart, conctracility around the heart,etc; which were all used to determine the survival of the patient. \n"
   ]
  },
  {
   "cell_type": "markdown",
   "metadata": {},
   "source": [
    "## Attributes\n",
    "Number of attributes: 13\n",
    "Target Column: Alive, numerical (0 dead, 1 alive)\n",
    "Only the column \"Group\" will be ignored \n",
    "\n",
    "\n",
    "1. Survival- the number of months patient survived (has survived,if patient is still alive).\n",
    "\n",
    "2. Still-alive - binary value; 0= dead after survival time, 1= still alive\n",
    "\n",
    "3. age-at-heart-attack -- age in years when heart attack occurred\n",
    "\n",
    "4. pericardial-effusion(fluid around the heart) - binary value; 0= no fluid, 1=fluid\n",
    "\n",
    "5. fractional-shortening -- a measure of contracility around the heart;lower numbers are increasingly abnormal\n",
    "\n",
    "6. epss -- E-point septal separation, another measure of contractility.  Larger numbers are increasingly abnormal.\n",
    "\n",
    "7. lvdd -- left ventricular end-diastolic dimension.  This is a measure of the size of the heart at end-diastole.Large hearts tend to be sick hearts.\n",
    "\n",
    "8. wall-motion-score -- a measure of how the segments of the left ventricle are moving\n",
    "\n",
    "9. wall-motion-index -- equals wall-motion-score divided by number of segments seen.  Usually 12-13 segments are seen in an echocardiogram. \n",
    "\n",
    "10. mult -- a derivate var which can be ignored\n",
    "\n",
    "11. name -- the name of the patient (I have replaced them with \"name\")\n",
    "\n",
    "12. group -- meaningless, ignore it\n",
    "\n",
    "13. alive-at-1 -- Boolean-valued. Derived from the first two attributes. 0 means patient was either dead after 1 year or had been followed for less than 1 year.  1 means patient was alive at 1 year."
   ]
  },
  {
   "cell_type": "code",
   "execution_count": 1,
   "metadata": {},
   "outputs": [
    {
     "name": "stdout",
     "output_type": "stream",
     "text": [
      "Python version is 3.6.5 |Anaconda, Inc.| (default, Apr 26 2018, 08:42:37) \n",
      "[GCC 4.2.1 Compatible Clang 4.0.1 (tags/RELEASE_401/final)]\n",
      "Matplotlib version is 2.2.2\n",
      "Scikit-Learn version is 0.20.0\n",
      "Numpy version is 1.14.3\n",
      "Pandas version is 0.23.0\n"
     ]
    }
   ],
   "source": [
    "%matplotlib inline\n",
    "\n",
    "import matplotlib.pyplot as plt\n",
    "import matplotlib\n",
    "import sklearn\n",
    "import numpy as np\n",
    "import pandas as pd\n",
    "from sklearn.model_selection import train_test_split\n",
    "from sklearn.preprocessing import StandardScaler\n",
    "import sys\n",
    "\n",
    "print(\"Python version is \"+sys.version)\n",
    "print(\"Matplotlib version is \"+matplotlib.__version__)\n",
    "print(\"Scikit-Learn version is \"+sklearn.__version__)\n",
    "print(\"Numpy version is \"+np.__version__)\n",
    "print(\"Pandas version is \"+pd.__version__)"
   ]
  },
  {
   "cell_type": "code",
   "execution_count": 2,
   "metadata": {},
   "outputs": [],
   "source": [
    "from sklearn.datasets import fetch_openml\n",
    "from sklearn.neural_network import MLPClassifier\n",
    "from sklearn.linear_model import LogisticRegression\n",
    "from sklearn.tree import DecisionTreeClassifier\n",
    "from sklearn.ensemble import RandomForestClassifier\n",
    "from sklearn.svm import SVC\n",
    "from sklearn.naive_bayes import GaussianNB"
   ]
  },
  {
   "cell_type": "markdown",
   "metadata": {},
   "source": [
    "# Fetching Data "
   ]
  },
  {
   "cell_type": "code",
   "execution_count": 3,
   "metadata": {},
   "outputs": [
    {
     "name": "stdout",
     "output_type": "stream",
     "text": [
      "<class 'pandas.core.frame.DataFrame'>\n",
      "RangeIndex: 133 entries, 0 to 132\n",
      "Data columns (total 13 columns):\n",
      "Survival                 132 non-null object\n",
      "Still-alive              132 non-null object\n",
      "age-at-heart-attack      132 non-null object\n",
      "pericardial_effusion     132 non-null float64\n",
      "fractional-shortening    132 non-null object\n",
      "epss                     132 non-null object\n",
      "Ivdd                     132 non-null object\n",
      "wall-motion-score        132 non-null object\n",
      "wall-motion-index        132 non-null object\n",
      "mult                     132 non-null object\n",
      "alive                    132 non-null object\n",
      "name                     132 non-null object\n",
      "group                    132 non-null object\n",
      "dtypes: float64(1), object(12)\n",
      "memory usage: 13.6+ KB\n",
      "None\n",
      "  Survival Still-alive age-at-heart-attack  pericardial_effusion  \\\n",
      "0       11           0                  71                   0.0   \n",
      "1       19           0                  72                   0.0   \n",
      "2       16           0                  55                   0.0   \n",
      "3       57           0                  60                   0.0   \n",
      "4       19           1                  57                   0.0   \n",
      "5       26           0                  68                   0.0   \n",
      "6       13           0                  62                   0.0   \n",
      "\n",
      "  fractional-shortening    epss   Ivdd wall-motion-score wall-motion-index  \\\n",
      "0                  0.26       9    4.6                14                 1   \n",
      "1                  0.38       6    4.1                14               1.7   \n",
      "2                  0.26       4   3.42                14                 1   \n",
      "3                 0.253  12.062  4.603                16              1.45   \n",
      "4                  0.16      22   5.75                18              2.25   \n",
      "5                  0.26       5   4.31                12                 1   \n",
      "6                  0.23      31   5.43              22.5             1.875   \n",
      "\n",
      "    mult alive  name group  \n",
      "0      1     0  name     1  \n",
      "1  0.588     0  name     1  \n",
      "2      1     0  name     1  \n",
      "3  0.788     0  name     1  \n",
      "4  0.571     0  name     1  \n",
      "5  0.857     0  name     1  \n",
      "6  0.857     0  name     1  \n"
     ]
    }
   ],
   "source": [
    "df = pd.read_csv('echocardiogram.csv')\n",
    "print(df.info())\n",
    "print(df.head(7))"
   ]
  },
  {
   "cell_type": "markdown",
   "metadata": {},
   "source": [
    "## Clean and PreProcessing Data"
   ]
  },
  {
   "cell_type": "code",
   "execution_count": 4,
   "metadata": {},
   "outputs": [
    {
     "name": "stdout",
     "output_type": "stream",
     "text": [
      "  Survival Still-alive age-at-heart-attack  pericardial_effusion  \\\n",
      "0       11           0                  71                   0.0   \n",
      "1       19           0                  72                   0.0   \n",
      "2       16           0                  55                   0.0   \n",
      "3       57           0                  60                   0.0   \n",
      "4       19           1                  57                   0.0   \n",
      "5       26           0                  68                   0.0   \n",
      "6       13           0                  62                   0.0   \n",
      "\n",
      "  fractional-shortening    epss   Ivdd wall-motion-score wall-motion-index  \\\n",
      "0                  0.26       9    4.6                14                 1   \n",
      "1                  0.38       6    4.1                14               1.7   \n",
      "2                  0.26       4   3.42                14                 1   \n",
      "3                 0.253  12.062  4.603                16              1.45   \n",
      "4                  0.16      22   5.75                18              2.25   \n",
      "5                  0.26       5   4.31                12                 1   \n",
      "6                  0.23      31   5.43              22.5             1.875   \n",
      "\n",
      "    mult alive  name group  \n",
      "0      1     0  name     1  \n",
      "1  0.588     0  name     1  \n",
      "2      1     0  name     1  \n",
      "3  0.788     0  name     1  \n",
      "4  0.571     0  name     1  \n",
      "5  0.857     0  name     1  \n",
      "6  0.857     0  name     1  \n"
     ]
    }
   ],
   "source": [
    "df = df.replace('?', pd.NaT)\n",
    "df = df.dropna()\n",
    "print(df.head(7))\n"
   ]
  },
  {
   "cell_type": "code",
   "execution_count": 5,
   "metadata": {},
   "outputs": [
    {
     "name": "stdout",
     "output_type": "stream",
     "text": [
      "Float64Index([0.0, 1.0], dtype='float64')\n",
      "  Survival Still-alive age-at-heart-attack  pericardial_effusion  \\\n",
      "0       11           0                  71                     0   \n",
      "1       19           0                  72                     0   \n",
      "2       16           0                  55                     0   \n",
      "3       57           0                  60                     0   \n",
      "4       19           1                  57                     0   \n",
      "\n",
      "  fractional-shortening    epss   Ivdd wall-motion-score wall-motion-index  \\\n",
      "0                  0.26       9    4.6                14                 1   \n",
      "1                  0.38       6    4.1                14               1.7   \n",
      "2                  0.26       4   3.42                14                 1   \n",
      "3                 0.253  12.062  4.603                16              1.45   \n",
      "4                  0.16      22   5.75                18              2.25   \n",
      "\n",
      "    mult alive  name group  \n",
      "0      1     0  name     1  \n",
      "1  0.588     0  name     1  \n",
      "2      1     0  name     1  \n",
      "3  0.788     0  name     1  \n",
      "4  0.571     0  name     1  \n"
     ]
    }
   ],
   "source": [
    "pericardial_effusionIndex = pd.Categorical(df.pericardial_effusion).categories       \n",
    "print(pericardial_effusionIndex)  #get the categories\n",
    "df.pericardial_effusion = pd.Categorical(df.pericardial_effusion).codes  #convert from category names to category code.\n",
    "print(df.head(5))"
   ]
  },
  {
   "cell_type": "markdown",
   "metadata": {},
   "source": [
    "Now we get the values "
   ]
  },
  {
   "cell_type": "code",
   "execution_count": 6,
   "metadata": {},
   "outputs": [],
   "source": [
    "data = df.values[:,:-2]\n",
    "\n",
    "X = data[:,:-2] #Ignore the column -1 and -2. \n",
    "y = data[:,--3] #column -3 is the dependent variable\n"
   ]
  },
  {
   "cell_type": "markdown",
   "metadata": {},
   "source": [
    "## Split the data set into Training Set and Testing Set"
   ]
  },
  {
   "cell_type": "code",
   "execution_count": 7,
   "metadata": {},
   "outputs": [
    {
     "name": "stdout",
     "output_type": "stream",
     "text": [
      "(45, 9)\n",
      "(16, 9)\n"
     ]
    }
   ],
   "source": [
    "# rescale the data, use the traditional train/test split\n",
    "y=y.astype('int')\n",
    "X_train, X_test, y_train, y_test = train_test_split(X, y, test_size=0.25)\n",
    "print(X_train.shape)\n",
    "print(X_test.shape)"
   ]
  },
  {
   "cell_type": "markdown",
   "metadata": {},
   "source": [
    "## Build and Train Machine Learning Models"
   ]
  },
  {
   "cell_type": "code",
   "execution_count": 8,
   "metadata": {},
   "outputs": [],
   "source": [
    "\n",
    "mlp = MLPClassifier(hidden_layer_sizes=(9,6), max_iter=50000, alpha=1e-8,\n",
    "                    solver='sgd', verbose=False, tol=1e-5, random_state=1,\n",
    "                    learning_rate_init=.03, warm_start=True)"
   ]
  },
  {
   "cell_type": "markdown",
   "metadata": {},
   "source": [
    "### Use fit method to train the network."
   ]
  },
  {
   "cell_type": "code",
   "execution_count": 9,
   "metadata": {},
   "outputs": [
    {
     "name": "stdout",
     "output_type": "stream",
     "text": [
      "Training set score: 0.800000\n",
      "Testing set score: 0.875000\n"
     ]
    }
   ],
   "source": [
    "mlp.fit(X_train, y_train)\n",
    "print(\"Training set score: %f\" % mlp.score(X_train, y_train))\n",
    "print(\"Testing set score: %f\" % mlp.score(X_test, y_test))"
   ]
  }
 ],
 "metadata": {
  "kernelspec": {
   "display_name": "Python 3",
   "language": "python",
   "name": "python3"
  },
  "language_info": {
   "codemirror_mode": {
    "name": "ipython",
    "version": 3
   },
   "file_extension": ".py",
   "mimetype": "text/x-python",
   "name": "python",
   "nbconvert_exporter": "python",
   "pygments_lexer": "ipython3",
   "version": "3.7.6"
  }
 },
 "nbformat": 4,
 "nbformat_minor": 2
}
